{
 "cells": [
  {
   "cell_type": "code",
   "execution_count": 1,
   "metadata": {},
   "outputs": [],
   "source": [
    "from bdd100k_dataset import BDD100kVideoReader\n",
    "from icecream import ic"
   ]
  },
  {
   "cell_type": "code",
   "execution_count": 2,
   "metadata": {},
   "outputs": [
    {
     "name": "stderr",
     "output_type": "stream",
     "text": [
      "/home/tejas/gits/ongoing/bdd100k-dataset/src/bdd100k_dataset/bdd_dataset.py:198: UserWarning: clean_first or clean_trajectories is set to True but remove_background is set to False. Setting remove_background to True.\n",
      "  warnings.warn(\n"
     ]
    }
   ],
   "source": [
    "dataset = BDD100kVideoReader(\"/home/tejas/gits/datasets/bdd100k/\", window_size=1, train=False, include_image_data=False, remove_background=False, clean_trajectories=True)"
   ]
  },
  {
   "cell_type": "code",
   "execution_count": 3,
   "metadata": {},
   "outputs": [],
   "source": [
    "blah = list(dataset)"
   ]
  },
  {
   "cell_type": "code",
   "execution_count": 4,
   "metadata": {},
   "outputs": [
    {
     "name": "stderr",
     "output_type": "stream",
     "text": [
      "ic| data: {'frameIndex': [0],\n",
      "           'labels': {'00125838': {0: {'box2d': array([1042.9154075 ,  279.35810173, 1120.98083546,  323.22958191]),\n",
      "                                       'category': 'car'}},\n",
      "                      '00125839': {0: {'box2d': array([1012.26988825,  281.93877703, 1061.30271904,  315.487556  ]),\n",
      "                                       'category': 'car'}},\n",
      "                      '00125840': {0: {'box2d': array([824.20317543, 279.68068614, 890.0103957 , 304.19710154]),\n",
      "                                       'category': 'car'}},\n",
      "                      '00125841': {0: {'box2d': array([766.63261442, 279.4084713 , 784.40794056, 293.74341173]),\n",
      "                                       'category': 'car'}}},\n",
      "           'name': ['b2505382-549785d3-0000001.jpg'],\n",
      "           'videoName': ['b2505382-549785d3']}\n"
     ]
    }
   ],
   "source": [
    "for data in dataset:\n",
    "    ic(data)\n",
    "    break"
   ]
  },
  {
   "cell_type": "code",
   "execution_count": 11,
   "metadata": {},
   "outputs": [
    {
     "name": "stderr",
     "output_type": "stream",
     "text": [
      "ic| data: {'frameIndex': [0],\n",
      "           'labels': {'00125838': {0: {'box2d': array([1042.9154075 ,  279.35810173, 1120.98083546,  323.22958191]),\n",
      "                                       'category': 'car'}},\n",
      "                      '00125839': {0: {'box2d': array([1012.26988825,  281.93877703, 1061.30271904,  315.487556  ]),\n",
      "                                       'category': 'car'}},\n",
      "                      '00125840': {0: {'box2d': array([824.20317543, 279.68068614, 890.0103957 , 304.19710154]),\n",
      "                                       'category': 'car'}},\n",
      "                      '00125841': {0: {'box2d': array([766.63261442, 279.4084713 , 784.40794056, 293.74341173]),\n",
      "                                       'category': 'car'}}},\n",
      "           'name': ['b2505382-549785d3-0000001.jpg'],\n",
      "           'videoName': ['b2505382-549785d3']}\n"
     ]
    }
   ],
   "source": [
    "for data in dataset:\n",
    "    ic(data)\n",
    "    break"
   ]
  },
  {
   "cell_type": "code",
   "execution_count": 15,
   "metadata": {},
   "outputs": [],
   "source": [
    "blah = dataset.process_labels()"
   ]
  },
  {
   "cell_type": "code",
   "execution_count": 16,
   "metadata": {},
   "outputs": [],
   "source": [
    "blah = list(blah)"
   ]
  },
  {
   "cell_type": "code",
   "execution_count": 17,
   "metadata": {},
   "outputs": [
    {
     "data": {
      "text/plain": [
       "39773"
      ]
     },
     "execution_count": 17,
     "metadata": {},
     "output_type": "execute_result"
    }
   ],
   "source": [
    "len(blah)\n",
    "\n",
    "# 39096\n",
    "# 39343\n",
    "# 39973"
   ]
  },
  {
   "cell_type": "code",
   "execution_count": 6,
   "metadata": {},
   "outputs": [
    {
     "ename": "TypeError",
     "evalue": "object of type 'BDD100kVideoReader' has no len()",
     "output_type": "error",
     "traceback": [
      "\u001b[0;31m---------------------------------------------------------------------------\u001b[0m",
      "\u001b[0;31mTypeError\u001b[0m                                 Traceback (most recent call last)",
      "Cell \u001b[0;32mIn[6], line 1\u001b[0m\n\u001b[0;32m----> 1\u001b[0m \u001b[38;5;28;43mlen\u001b[39;49m\u001b[43m(\u001b[49m\u001b[43mdataset\u001b[49m\u001b[43m)\u001b[49m\n",
      "\u001b[0;31mTypeError\u001b[0m: object of type 'BDD100kVideoReader' has no len()"
     ]
    }
   ],
   "source": [
    "len(dataset)"
   ]
  },
  {
   "cell_type": "code",
   "execution_count": null,
   "metadata": {},
   "outputs": [],
   "source": [
    "next(blah)"
   ]
  },
  {
   "cell_type": "code",
   "execution_count": null,
   "metadata": {},
   "outputs": [],
   "source": []
  }
 ],
 "metadata": {
  "kernelspec": {
   "display_name": "Python 3 (ipykernel)",
   "language": "python",
   "name": "python3"
  },
  "language_info": {
   "codemirror_mode": {
    "name": "ipython",
    "version": 3
   },
   "file_extension": ".py",
   "mimetype": "text/x-python",
   "name": "python",
   "nbconvert_exporter": "python",
   "pygments_lexer": "ipython3",
   "version": "3.11.9"
  }
 },
 "nbformat": 4,
 "nbformat_minor": 2
}
